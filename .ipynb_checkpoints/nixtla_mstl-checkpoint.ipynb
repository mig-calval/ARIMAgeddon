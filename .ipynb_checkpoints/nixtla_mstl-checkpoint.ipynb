{
 "cells": [
  {
   "cell_type": "code",
   "execution_count": 1,
   "id": "b4c3a330",
   "metadata": {},
   "outputs": [],
   "source": [
    "# !pip install statsforecast --user"
   ]
  },
  {
   "cell_type": "code",
   "execution_count": 2,
   "id": "bd37454f",
   "metadata": {},
   "outputs": [],
   "source": [
    "from functools import partial\n",
    "\n",
    "import pandas as pd\n",
    "import statsforecast\n",
    "from statsforecast import StatsForecast\n",
    "from statsforecast.feature_engineering import mstl_decomposition\n",
    "from statsforecast.models import ARIMA, MSTL\n",
    "from utilsforecast.evaluation import evaluate\n",
    "from utilsforecast.losses import smape, mase"
   ]
  },
  {
   "cell_type": "code",
   "execution_count": 3,
   "id": "b83fe0d8",
   "metadata": {},
   "outputs": [
    {
     "data": {
      "text/html": [
       "<div>\n",
       "<style scoped>\n",
       "    .dataframe tbody tr th:only-of-type {\n",
       "        vertical-align: middle;\n",
       "    }\n",
       "\n",
       "    .dataframe tbody tr th {\n",
       "        vertical-align: top;\n",
       "    }\n",
       "\n",
       "    .dataframe thead th {\n",
       "        text-align: right;\n",
       "    }\n",
       "</style>\n",
       "<table border=\"1\" class=\"dataframe\">\n",
       "  <thead>\n",
       "    <tr style=\"text-align: right;\">\n",
       "      <th></th>\n",
       "      <th>unique_id</th>\n",
       "      <th>ds</th>\n",
       "      <th>y</th>\n",
       "    </tr>\n",
       "  </thead>\n",
       "  <tbody>\n",
       "    <tr>\n",
       "      <th>0</th>\n",
       "      <td>H1</td>\n",
       "      <td>1</td>\n",
       "      <td>605.0</td>\n",
       "    </tr>\n",
       "    <tr>\n",
       "      <th>1</th>\n",
       "      <td>H1</td>\n",
       "      <td>2</td>\n",
       "      <td>586.0</td>\n",
       "    </tr>\n",
       "    <tr>\n",
       "      <th>2</th>\n",
       "      <td>H1</td>\n",
       "      <td>3</td>\n",
       "      <td>586.0</td>\n",
       "    </tr>\n",
       "    <tr>\n",
       "      <th>3</th>\n",
       "      <td>H1</td>\n",
       "      <td>4</td>\n",
       "      <td>559.0</td>\n",
       "    </tr>\n",
       "    <tr>\n",
       "      <th>4</th>\n",
       "      <td>H1</td>\n",
       "      <td>5</td>\n",
       "      <td>511.0</td>\n",
       "    </tr>\n",
       "  </tbody>\n",
       "</table>\n",
       "</div>"
      ],
      "text/plain": [
       "  unique_id  ds      y\n",
       "0        H1   1  605.0\n",
       "1        H1   2  586.0\n",
       "2        H1   3  586.0\n",
       "3        H1   4  559.0\n",
       "4        H1   5  511.0"
      ]
     },
     "execution_count": 3,
     "metadata": {},
     "output_type": "execute_result"
    }
   ],
   "source": [
    "df = pd.read_parquet('https://datasets-nixtla.s3.amazonaws.com/m4-hourly.parquet')\n",
    "uids = df['unique_id'].unique()[:10]\n",
    "df = df[df['unique_id'].isin(uids)]\n",
    "df.head()"
   ]
  },
  {
   "cell_type": "code",
   "execution_count": 4,
   "id": "3c78bd46",
   "metadata": {},
   "outputs": [],
   "source": [
    "freq = 1\n",
    "season_length = 24\n",
    "horizon = 2 * season_length\n",
    "valid = df.groupby('unique_id').tail(horizon)\n",
    "train = df.drop(valid.index)\n",
    "model = MSTL(season_length=24)\n",
    "transformed_df, X_df = mstl_decomposition(train, model=model, freq=freq, h=horizon)"
   ]
  },
  {
   "cell_type": "code",
   "execution_count": 5,
   "id": "9e99e01a",
   "metadata": {},
   "outputs": [
    {
     "data": {
      "text/html": [
       "<div>\n",
       "<style scoped>\n",
       "    .dataframe tbody tr th:only-of-type {\n",
       "        vertical-align: middle;\n",
       "    }\n",
       "\n",
       "    .dataframe tbody tr th {\n",
       "        vertical-align: top;\n",
       "    }\n",
       "\n",
       "    .dataframe thead th {\n",
       "        text-align: right;\n",
       "    }\n",
       "</style>\n",
       "<table border=\"1\" class=\"dataframe\">\n",
       "  <thead>\n",
       "    <tr style=\"text-align: right;\">\n",
       "      <th></th>\n",
       "      <th>unique_id</th>\n",
       "      <th>ds</th>\n",
       "      <th>y</th>\n",
       "      <th>trend</th>\n",
       "      <th>seasonal</th>\n",
       "    </tr>\n",
       "  </thead>\n",
       "  <tbody>\n",
       "    <tr>\n",
       "      <th>0</th>\n",
       "      <td>H1</td>\n",
       "      <td>1</td>\n",
       "      <td>605.0</td>\n",
       "      <td>502.872910</td>\n",
       "      <td>131.419934</td>\n",
       "    </tr>\n",
       "    <tr>\n",
       "      <th>1</th>\n",
       "      <td>H1</td>\n",
       "      <td>2</td>\n",
       "      <td>586.0</td>\n",
       "      <td>507.873456</td>\n",
       "      <td>93.100015</td>\n",
       "    </tr>\n",
       "    <tr>\n",
       "      <th>2</th>\n",
       "      <td>H1</td>\n",
       "      <td>3</td>\n",
       "      <td>586.0</td>\n",
       "      <td>512.822533</td>\n",
       "      <td>82.155386</td>\n",
       "    </tr>\n",
       "    <tr>\n",
       "      <th>3</th>\n",
       "      <td>H1</td>\n",
       "      <td>4</td>\n",
       "      <td>559.0</td>\n",
       "      <td>517.717481</td>\n",
       "      <td>42.412749</td>\n",
       "    </tr>\n",
       "    <tr>\n",
       "      <th>4</th>\n",
       "      <td>H1</td>\n",
       "      <td>5</td>\n",
       "      <td>511.0</td>\n",
       "      <td>522.555849</td>\n",
       "      <td>-11.401890</td>\n",
       "    </tr>\n",
       "    <tr>\n",
       "      <th>...</th>\n",
       "      <td>...</td>\n",
       "      <td>...</td>\n",
       "      <td>...</td>\n",
       "      <td>...</td>\n",
       "      <td>...</td>\n",
       "    </tr>\n",
       "    <tr>\n",
       "      <th>6995</th>\n",
       "      <td>H107</td>\n",
       "      <td>696</td>\n",
       "      <td>4708.0</td>\n",
       "      <td>3947.720625</td>\n",
       "      <td>676.891540</td>\n",
       "    </tr>\n",
       "    <tr>\n",
       "      <th>6996</th>\n",
       "      <td>H107</td>\n",
       "      <td>697</td>\n",
       "      <td>4451.0</td>\n",
       "      <td>3955.741399</td>\n",
       "      <td>530.573828</td>\n",
       "    </tr>\n",
       "    <tr>\n",
       "      <th>6997</th>\n",
       "      <td>H107</td>\n",
       "      <td>698</td>\n",
       "      <td>4303.0</td>\n",
       "      <td>3963.834683</td>\n",
       "      <td>382.338985</td>\n",
       "    </tr>\n",
       "    <tr>\n",
       "      <th>6998</th>\n",
       "      <td>H107</td>\n",
       "      <td>699</td>\n",
       "      <td>4207.0</td>\n",
       "      <td>3971.979313</td>\n",
       "      <td>274.809658</td>\n",
       "    </tr>\n",
       "    <tr>\n",
       "      <th>6999</th>\n",
       "      <td>H107</td>\n",
       "      <td>700</td>\n",
       "      <td>3928.0</td>\n",
       "      <td>3980.158154</td>\n",
       "      <td>31.908937</td>\n",
       "    </tr>\n",
       "  </tbody>\n",
       "</table>\n",
       "<p>7000 rows × 5 columns</p>\n",
       "</div>"
      ],
      "text/plain": [
       "     unique_id   ds       y        trend    seasonal\n",
       "0           H1    1   605.0   502.872910  131.419934\n",
       "1           H1    2   586.0   507.873456   93.100015\n",
       "2           H1    3   586.0   512.822533   82.155386\n",
       "3           H1    4   559.0   517.717481   42.412749\n",
       "4           H1    5   511.0   522.555849  -11.401890\n",
       "...        ...  ...     ...          ...         ...\n",
       "6995      H107  696  4708.0  3947.720625  676.891540\n",
       "6996      H107  697  4451.0  3955.741399  530.573828\n",
       "6997      H107  698  4303.0  3963.834683  382.338985\n",
       "6998      H107  699  4207.0  3971.979313  274.809658\n",
       "6999      H107  700  3928.0  3980.158154   31.908937\n",
       "\n",
       "[7000 rows x 5 columns]"
      ]
     },
     "execution_count": 5,
     "metadata": {},
     "output_type": "execute_result"
    }
   ],
   "source": [
    "transformed_df"
   ]
  },
  {
   "cell_type": "code",
   "execution_count": 6,
   "id": "bfd9e270",
   "metadata": {
    "scrolled": true
   },
   "outputs": [
    {
     "data": {
      "text/html": [
       "<div>\n",
       "<style scoped>\n",
       "    .dataframe tbody tr th:only-of-type {\n",
       "        vertical-align: middle;\n",
       "    }\n",
       "\n",
       "    .dataframe tbody tr th {\n",
       "        vertical-align: top;\n",
       "    }\n",
       "\n",
       "    .dataframe thead th {\n",
       "        text-align: right;\n",
       "    }\n",
       "</style>\n",
       "<table border=\"1\" class=\"dataframe\">\n",
       "  <thead>\n",
       "    <tr style=\"text-align: right;\">\n",
       "      <th></th>\n",
       "      <th>unique_id</th>\n",
       "      <th>ds</th>\n",
       "      <th>ARIMA</th>\n",
       "    </tr>\n",
       "  </thead>\n",
       "  <tbody>\n",
       "    <tr>\n",
       "      <th>0</th>\n",
       "      <td>H1</td>\n",
       "      <td>701</td>\n",
       "      <td>612.737671</td>\n",
       "    </tr>\n",
       "    <tr>\n",
       "      <th>1</th>\n",
       "      <td>H1</td>\n",
       "      <td>702</td>\n",
       "      <td>542.851792</td>\n",
       "    </tr>\n",
       "    <tr>\n",
       "      <th>2</th>\n",
       "      <td>H1</td>\n",
       "      <td>703</td>\n",
       "      <td>501.931830</td>\n",
       "    </tr>\n",
       "    <tr>\n",
       "      <th>3</th>\n",
       "      <td>H1</td>\n",
       "      <td>704</td>\n",
       "      <td>470.248275</td>\n",
       "    </tr>\n",
       "    <tr>\n",
       "      <th>4</th>\n",
       "      <td>H1</td>\n",
       "      <td>705</td>\n",
       "      <td>448.115822</td>\n",
       "    </tr>\n",
       "  </tbody>\n",
       "</table>\n",
       "</div>"
      ],
      "text/plain": [
       "  unique_id   ds       ARIMA\n",
       "0        H1  701  612.737671\n",
       "1        H1  702  542.851792\n",
       "2        H1  703  501.931830\n",
       "3        H1  704  470.248275\n",
       "4        H1  705  448.115822"
      ]
     },
     "execution_count": 6,
     "metadata": {},
     "output_type": "execute_result"
    }
   ],
   "source": [
    "sf = StatsForecast(\n",
    "    models=[ARIMA(order=(1, 0, 1), season_length=season_length)],\n",
    "    freq=freq\n",
    ")\n",
    "preds = sf.forecast(h=horizon, df=transformed_df, X_df=X_df)\n",
    "preds.head()"
   ]
  },
  {
   "cell_type": "code",
   "execution_count": 24,
   "id": "7e3aabcc",
   "metadata": {},
   "outputs": [
    {
     "data": {
      "text/html": [
       "<div>\n",
       "<style scoped>\n",
       "    .dataframe tbody tr th:only-of-type {\n",
       "        vertical-align: middle;\n",
       "    }\n",
       "\n",
       "    .dataframe tbody tr th {\n",
       "        vertical-align: top;\n",
       "    }\n",
       "\n",
       "    .dataframe thead th {\n",
       "        text-align: right;\n",
       "    }\n",
       "</style>\n",
       "<table border=\"1\" class=\"dataframe\">\n",
       "  <thead>\n",
       "    <tr style=\"text-align: right;\">\n",
       "      <th></th>\n",
       "      <th>unique_id</th>\n",
       "      <th>ds</th>\n",
       "      <th>y</th>\n",
       "    </tr>\n",
       "  </thead>\n",
       "  <tbody>\n",
       "    <tr>\n",
       "      <th>700</th>\n",
       "      <td>H1</td>\n",
       "      <td>701</td>\n",
       "      <td>619.0</td>\n",
       "    </tr>\n",
       "    <tr>\n",
       "      <th>701</th>\n",
       "      <td>H1</td>\n",
       "      <td>702</td>\n",
       "      <td>565.0</td>\n",
       "    </tr>\n",
       "    <tr>\n",
       "      <th>702</th>\n",
       "      <td>H1</td>\n",
       "      <td>703</td>\n",
       "      <td>532.0</td>\n",
       "    </tr>\n",
       "    <tr>\n",
       "      <th>703</th>\n",
       "      <td>H1</td>\n",
       "      <td>704</td>\n",
       "      <td>495.0</td>\n",
       "    </tr>\n",
       "    <tr>\n",
       "      <th>704</th>\n",
       "      <td>H1</td>\n",
       "      <td>705</td>\n",
       "      <td>481.0</td>\n",
       "    </tr>\n",
       "    <tr>\n",
       "      <th>...</th>\n",
       "      <td>...</td>\n",
       "      <td>...</td>\n",
       "      <td>...</td>\n",
       "    </tr>\n",
       "    <tr>\n",
       "      <th>7475</th>\n",
       "      <td>H107</td>\n",
       "      <td>744</td>\n",
       "      <td>4316.0</td>\n",
       "    </tr>\n",
       "    <tr>\n",
       "      <th>7476</th>\n",
       "      <td>H107</td>\n",
       "      <td>745</td>\n",
       "      <td>4159.0</td>\n",
       "    </tr>\n",
       "    <tr>\n",
       "      <th>7477</th>\n",
       "      <td>H107</td>\n",
       "      <td>746</td>\n",
       "      <td>4058.0</td>\n",
       "    </tr>\n",
       "    <tr>\n",
       "      <th>7478</th>\n",
       "      <td>H107</td>\n",
       "      <td>747</td>\n",
       "      <td>3971.0</td>\n",
       "    </tr>\n",
       "    <tr>\n",
       "      <th>7479</th>\n",
       "      <td>H107</td>\n",
       "      <td>748</td>\n",
       "      <td>3770.0</td>\n",
       "    </tr>\n",
       "  </tbody>\n",
       "</table>\n",
       "<p>480 rows × 3 columns</p>\n",
       "</div>"
      ],
      "text/plain": [
       "     unique_id   ds       y\n",
       "700         H1  701   619.0\n",
       "701         H1  702   565.0\n",
       "702         H1  703   532.0\n",
       "703         H1  704   495.0\n",
       "704         H1  705   481.0\n",
       "...        ...  ...     ...\n",
       "7475      H107  744  4316.0\n",
       "7476      H107  745  4159.0\n",
       "7477      H107  746  4058.0\n",
       "7478      H107  747  3971.0\n",
       "7479      H107  748  3770.0\n",
       "\n",
       "[480 rows x 3 columns]"
      ]
     },
     "execution_count": 24,
     "metadata": {},
     "output_type": "execute_result"
    }
   ],
   "source": [
    "valid"
   ]
  },
  {
   "cell_type": "code",
   "execution_count": null,
   "id": "39e34dfd",
   "metadata": {},
   "outputs": [],
   "source": [
    "mase()"
   ]
  },
  {
   "cell_type": "code",
   "execution_count": 31,
   "id": "a16f0052",
   "metadata": {},
   "outputs": [
    {
     "data": {
      "text/plain": [
       "<function utilsforecast.losses.smape(df: pandas.core.frame.DataFrame, models: List[str], id_col: str = 'unique_id', target_col: str = 'y') -> pandas.core.frame.DataFrame>"
      ]
     },
     "execution_count": 31,
     "metadata": {},
     "output_type": "execute_result"
    }
   ],
   "source": [
    "smape()"
   ]
  },
  {
   "cell_type": "code",
   "execution_count": 58,
   "id": "061373e5",
   "metadata": {},
   "outputs": [],
   "source": [
    "def compute_evaluation(preds, valid, train, model='ARIMA'):\n",
    "    full = preds.merge(valid, on=['unique_id', 'ds'])\n",
    "    mase24 = partial(mase, seasonality=24)\n",
    "    res = evaluate(full, metrics=[smape, mase24], train_df=train).groupby('metric')[model].mean()\n",
    "    res_smape = '{:.1%}'.format(res['smape'])\n",
    "    res_mase = '{:.1f}'.format(res['mase'])\n",
    "    return pd.Series({'mase': res_mase, 'smape': res_smape})"
   ]
  },
  {
   "cell_type": "code",
   "execution_count": 8,
   "id": "82601d6e",
   "metadata": {},
   "outputs": [
    {
     "data": {
      "text/plain": [
       "mase      1.0\n",
       "smape    3.9%\n",
       "dtype: object"
      ]
     },
     "execution_count": 8,
     "metadata": {},
     "output_type": "execute_result"
    }
   ],
   "source": [
    "compute_evaluation(preds)"
   ]
  },
  {
   "cell_type": "code",
   "execution_count": 9,
   "id": "2c089853",
   "metadata": {},
   "outputs": [
    {
     "data": {
      "text/plain": [
       "mase      2.3\n",
       "smape    7.7%\n",
       "dtype: object"
      ]
     },
     "execution_count": 9,
     "metadata": {},
     "output_type": "execute_result"
    }
   ],
   "source": [
    "preds_noexog = sf.forecast(h=horizon, df=train)\n",
    "compute_evaluation(preds_noexog)"
   ]
  },
  {
   "cell_type": "code",
   "execution_count": 16,
   "id": "c96d5c20",
   "metadata": {},
   "outputs": [],
   "source": [
    "first_300 = train[train['ds'] < 200]"
   ]
  },
  {
   "cell_type": "code",
   "execution_count": 35,
   "id": "9e7d0739",
   "metadata": {},
   "outputs": [
    {
     "data": {
      "text/plain": [
       "mase      2.3\n",
       "smape    8.5%\n",
       "dtype: object"
      ]
     },
     "execution_count": 35,
     "metadata": {},
     "output_type": "execute_result"
    }
   ],
   "source": [
    "preds_300 = sf.forecast(h=horizon, df=first_300)\n",
    "compute_evaluation(preds_300, train, train)"
   ]
  },
  {
   "cell_type": "code",
   "execution_count": 36,
   "id": "43b97349",
   "metadata": {},
   "outputs": [],
   "source": [
    "from mlforecast import MLForecast"
   ]
  },
  {
   "cell_type": "code",
   "execution_count": 37,
   "id": "b4e53a88",
   "metadata": {},
   "outputs": [],
   "source": [
    "from sklearn.ensemble import RandomForestRegressor"
   ]
  },
  {
   "cell_type": "code",
   "execution_count": 76,
   "id": "5eb62c3e",
   "metadata": {},
   "outputs": [],
   "source": [
    "from sklearn.linear_model import LinearRegression"
   ]
  },
  {
   "cell_type": "code",
   "execution_count": 38,
   "id": "057fb82e",
   "metadata": {},
   "outputs": [
    {
     "data": {
      "text/plain": [
       "1"
      ]
     },
     "execution_count": 38,
     "metadata": {},
     "output_type": "execute_result"
    }
   ],
   "source": [
    "freq"
   ]
  },
  {
   "cell_type": "code",
   "execution_count": 77,
   "id": "0ad1709b",
   "metadata": {
    "scrolled": true
   },
   "outputs": [],
   "source": [
    "ml = MLForecast(\n",
    "    models=[LinearRegression()],\n",
    "    freq=freq,\n",
    "    lags=[1, 7],    \n",
    ")"
   ]
  },
  {
   "cell_type": "code",
   "execution_count": 78,
   "id": "21eedddf",
   "metadata": {},
   "outputs": [
    {
     "data": {
      "text/plain": [
       "MLForecast(models=[LinearRegression], freq=1, lag_features=['lag1', 'lag7'], date_features=[], num_threads=1)"
      ]
     },
     "execution_count": 78,
     "metadata": {},
     "output_type": "execute_result"
    }
   ],
   "source": [
    "ml.fit(df=transformed_df, static_features=[])"
   ]
  },
  {
   "cell_type": "code",
   "execution_count": 85,
   "id": "7c6f4bd4",
   "metadata": {},
   "outputs": [
    {
     "data": {
      "text/plain": [
       "['trend', 'seasonal', 'lag1', 'lag7']"
      ]
     },
     "execution_count": 85,
     "metadata": {},
     "output_type": "execute_result"
    }
   ],
   "source": [
    "ml.ts.features_order_"
   ]
  },
  {
   "cell_type": "code",
   "execution_count": 79,
   "id": "1ab38d9f",
   "metadata": {},
   "outputs": [],
   "source": [
    "ml_preds = ml.predict(7, X_df=X_df)"
   ]
  },
  {
   "cell_type": "code",
   "execution_count": 80,
   "id": "36a278e2",
   "metadata": {},
   "outputs": [
    {
     "data": {
      "text/html": [
       "<div>\n",
       "<style scoped>\n",
       "    .dataframe tbody tr th:only-of-type {\n",
       "        vertical-align: middle;\n",
       "    }\n",
       "\n",
       "    .dataframe tbody tr th {\n",
       "        vertical-align: top;\n",
       "    }\n",
       "\n",
       "    .dataframe thead th {\n",
       "        text-align: right;\n",
       "    }\n",
       "</style>\n",
       "<table border=\"1\" class=\"dataframe\">\n",
       "  <thead>\n",
       "    <tr style=\"text-align: right;\">\n",
       "      <th></th>\n",
       "      <th>unique_id</th>\n",
       "      <th>ds</th>\n",
       "      <th>LinearRegression</th>\n",
       "    </tr>\n",
       "  </thead>\n",
       "  <tbody>\n",
       "    <tr>\n",
       "      <th>0</th>\n",
       "      <td>H1</td>\n",
       "      <td>701</td>\n",
       "      <td>625.185517</td>\n",
       "    </tr>\n",
       "    <tr>\n",
       "      <th>1</th>\n",
       "      <td>H1</td>\n",
       "      <td>702</td>\n",
       "      <td>569.976792</td>\n",
       "    </tr>\n",
       "    <tr>\n",
       "      <th>2</th>\n",
       "      <td>H1</td>\n",
       "      <td>703</td>\n",
       "      <td>525.475387</td>\n",
       "    </tr>\n",
       "    <tr>\n",
       "      <th>3</th>\n",
       "      <td>H1</td>\n",
       "      <td>704</td>\n",
       "      <td>486.516066</td>\n",
       "    </tr>\n",
       "    <tr>\n",
       "      <th>4</th>\n",
       "      <td>H1</td>\n",
       "      <td>705</td>\n",
       "      <td>458.909381</td>\n",
       "    </tr>\n",
       "    <tr>\n",
       "      <th>...</th>\n",
       "      <td>...</td>\n",
       "      <td>...</td>\n",
       "      <td>...</td>\n",
       "    </tr>\n",
       "    <tr>\n",
       "      <th>65</th>\n",
       "      <td>H107</td>\n",
       "      <td>703</td>\n",
       "      <td>3260.859735</td>\n",
       "    </tr>\n",
       "    <tr>\n",
       "      <th>66</th>\n",
       "      <td>H107</td>\n",
       "      <td>704</td>\n",
       "      <td>3139.280562</td>\n",
       "    </tr>\n",
       "    <tr>\n",
       "      <th>67</th>\n",
       "      <td>H107</td>\n",
       "      <td>705</td>\n",
       "      <td>3059.366226</td>\n",
       "    </tr>\n",
       "    <tr>\n",
       "      <th>68</th>\n",
       "      <td>H107</td>\n",
       "      <td>706</td>\n",
       "      <td>3011.644873</td>\n",
       "    </tr>\n",
       "    <tr>\n",
       "      <th>69</th>\n",
       "      <td>H107</td>\n",
       "      <td>707</td>\n",
       "      <td>3040.705616</td>\n",
       "    </tr>\n",
       "  </tbody>\n",
       "</table>\n",
       "<p>70 rows × 3 columns</p>\n",
       "</div>"
      ],
      "text/plain": [
       "   unique_id   ds  LinearRegression\n",
       "0         H1  701        625.185517\n",
       "1         H1  702        569.976792\n",
       "2         H1  703        525.475387\n",
       "3         H1  704        486.516066\n",
       "4         H1  705        458.909381\n",
       "..       ...  ...               ...\n",
       "65      H107  703       3260.859735\n",
       "66      H107  704       3139.280562\n",
       "67      H107  705       3059.366226\n",
       "68      H107  706       3011.644873\n",
       "69      H107  707       3040.705616\n",
       "\n",
       "[70 rows x 3 columns]"
      ]
     },
     "execution_count": 80,
     "metadata": {},
     "output_type": "execute_result"
    }
   ],
   "source": [
    "ml_preds"
   ]
  },
  {
   "cell_type": "code",
   "execution_count": 81,
   "id": "e2d136df",
   "metadata": {},
   "outputs": [],
   "source": [
    "def compute_evaluation(preds, valid, train, model='ARIMA'):\n",
    "    full = preds.merge(valid, on=['unique_id', 'ds'])\n",
    "    mase24 = partial(mase, seasonality=24)\n",
    "    res = evaluate(full, metrics=[smape, mase24], train_df=train).groupby('metric')[model].mean()\n",
    "    res_smape = '{:.1%}'.format(res['smape'])\n",
    "    res_mase = '{:.1f}'.format(res['mase'])\n",
    "    return pd.Series({'mase': res_mase, 'smape': res_smape})"
   ]
  },
  {
   "cell_type": "code",
   "execution_count": 84,
   "id": "0f447c02",
   "metadata": {},
   "outputs": [
    {
     "data": {
      "text/plain": [
       "mase      0.8\n",
       "smape    3.8%\n",
       "dtype: object"
      ]
     },
     "execution_count": 84,
     "metadata": {},
     "output_type": "execute_result"
    }
   ],
   "source": [
    "compute_evaluation(ml_preds, valid, train, model='LinearRegression')"
   ]
  }
 ],
 "metadata": {
  "kernelspec": {
   "display_name": "Python 3",
   "language": "python",
   "name": "python3"
  },
  "language_info": {
   "codemirror_mode": {
    "name": "ipython",
    "version": 3
   },
   "file_extension": ".py",
   "mimetype": "text/x-python",
   "name": "python",
   "nbconvert_exporter": "python",
   "pygments_lexer": "ipython3",
   "version": "3.9.5"
  }
 },
 "nbformat": 4,
 "nbformat_minor": 5
}
